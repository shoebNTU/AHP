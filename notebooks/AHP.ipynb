{
 "cells": [
  {
   "cell_type": "code",
   "execution_count": 3,
   "metadata": {},
   "outputs": [],
   "source": [
    "import numpy as np\n",
    "import pandas as pd\n",
    "\n",
    "from collections import OrderedDict"
   ]
  },
  {
   "cell_type": "code",
   "execution_count": 168,
   "metadata": {},
   "outputs": [],
   "source": [
    "class AHP():\n",
    "    RI = {1: 0, 2: 0, 3: 0.58, 4: 0.9, 5: 1.12, 6: 1.24, 7: 1.32, 8: 1.41, 9: 1.45}\n",
    "    consistency = False\n",
    "    priority_vec = None\n",
    "    compete = False\n",
    "    normal = False\n",
    "    sublayer = None\n",
    "    \n",
    "    def __init__(self, name, size):\n",
    "        self.name = name\n",
    "        self.size = size\n",
    "        self.matrix = np.zeros([size,size])\n",
    "        self.criteria = [None] * size\n",
    "               \n",
    "    def update_matrix(self, mat, automated=True):\n",
    "        if not ((mat.shape[0] == mat.shape[1]) and (mat.ndim == 2)):\n",
    "            raise Exception('Input matrix must be squared.')\n",
    "        if self.size != len(self.criteria):\n",
    "            self.criteria = [None] * size\n",
    "        self.matrix = mat\n",
    "        self.size = mat.shape[0]\n",
    "        self.consistency = False\n",
    "        self.normal = False\n",
    "        self.priority_vec = None\n",
    "        if automated:\n",
    "            self.rank()\n",
    "        \n",
    "    def input_prioriry_vec(self, vec):\n",
    "        if not (vec.shape[1] == 1) and (vec.shape[0] == self.size) and (vec.ndim == 2):\n",
    "            raise Exception('The size of input priority vector is not compatable.')\n",
    "        self.priority_vec = vec\n",
    "        self.output = self.priority_vec / self.priority_vec.sum()\n",
    "        self.consistency = True\n",
    "        self.normal = True\n",
    "        \n",
    "    def rename(self, name):\n",
    "        self.name = name\n",
    "        \n",
    "    def update_criteria(self, criteria):\n",
    "        if len(criteria) == self.size:\n",
    "            self.criteria = criteria\n",
    "        else:\n",
    "            raise Exception('Input doesn\\'t match the number of criteria.')\n",
    "            \n",
    "    def add_layer(self, alternative):\n",
    "        if not self.criteria:\n",
    "            raise Exception('Please input criterias before adding new layer.')\n",
    "        self.compete  = False\n",
    "        self.sublayer = OrderedDict()\n",
    "        self.alternative = alternative\n",
    "        for i in range(self.size):\n",
    "            self.sublayer[self.criteria[i]] = AHP(self.criteria[i], len(alternative))\n",
    "            self.sublayer[self.criteria[i]].update_criteria(self.alternative)\n",
    "            \n",
    "    def normalize(self):\n",
    "        if self.normal:\n",
    "            pass\n",
    "        col_sum = self.matrix.sum(axis = 0)\n",
    "        try:\n",
    "            self.matrix = self.matrix / col_sum\n",
    "        except:\n",
    "            raise Exception('Error when normalize on columns.')\n",
    "        else:\n",
    "            self.nomral = True\n",
    "            self.priority_vec = self.matrix.sum(axis = 1).reshape(-1,1)\n",
    "    \n",
    "    def rank(self):\n",
    "        if self.consistency:\n",
    "            df = pd.DataFrame(data = self.output, index = self.criteria, columns=[self.name])\n",
    "            # display(df)\n",
    "            return df\n",
    "        if not self.normal:\n",
    "            self.normalize()\n",
    "        Ax = self.matrix.dot(self.priority_vec)\n",
    "        eigen_val = (Ax / self.priority_vec).mean()\n",
    "        CI = (eigen_val - self.size) / (self.size - 1)\n",
    "        CR = CI / self.RI[self.size]\n",
    "        if CR < 0.1:\n",
    "            self.consistency = True\n",
    "            self.output = self.priority_vec / self.priority_vec.sum()\n",
    "            self.df_out = pd.DataFrame(data = self.output, index = self.criteria, columns=[self.name])\n",
    "            return self.df_out\n",
    "        else:\n",
    "            raise Exception('The consistency for desicion is not sufficient.')\n",
    "            \n",
    "    def make_decision(self):\n",
    "        if not self.consistency:\n",
    "            self.rank()\n",
    "        if not self.compete:\n",
    "            temp = True\n",
    "            arrays = []\n",
    "            interresults = []\n",
    "            colnames = []\n",
    "            for item in self.sublayer.values():\n",
    "                tempdf = item.rank()\n",
    "                temp = temp and item.consistency\n",
    "                if temp:\n",
    "                    arrays.append(item.output)\n",
    "                    interresults.append(tempdf.values)\n",
    "                    colnames.append(list(tempdf.columns))\n",
    "                else:\n",
    "                    raise Exception('Please check the AHP for {}'.format(item.name))\n",
    "            if temp:\n",
    "                self.compete = True\n",
    "            else:\n",
    "                pass\n",
    "            self.recommendation = np.concatenate(arrays, axis = 1).dot(self.output)\n",
    "            print (\"1---->\",self.recommendation)\n",
    "            self.inter = np.concatenate(interresults,axis=1)\n",
    "            print (\"2---->\",self.inter)\n",
    "            self.interfinal = np.concatenate((self.inter,self.recommendation),axis=1)\n",
    "            print (\"3---->\",self.interfinal)\n",
    "            self.flat_list = [item for sublist in colnames for item in sublist]\n",
    "            self.flat_list.append('AHP Score')\n",
    "                       \n",
    "        self.df_decision = pd.DataFrame(data = self.interfinal, index = self.alternative, columns = self.flat_list)\n",
    "        self.df_decision.index.name = 'Alternative'\n",
    "        self.df_decision['rank'] = self.df_decision['AHP Score'].rank(ascending = False)\n",
    "        return self.df_decision"
   ]
  },
  {
   "cell_type": "code",
   "execution_count": 169,
   "metadata": {},
   "outputs": [
    {
     "data": {
      "text/html": [
       "<div>\n",
       "<style scoped>\n",
       "    .dataframe tbody tr th:only-of-type {\n",
       "        vertical-align: middle;\n",
       "    }\n",
       "\n",
       "    .dataframe tbody tr th {\n",
       "        vertical-align: top;\n",
       "    }\n",
       "\n",
       "    .dataframe thead th {\n",
       "        text-align: right;\n",
       "    }\n",
       "</style>\n",
       "<table border=\"1\" class=\"dataframe\">\n",
       "  <thead>\n",
       "    <tr style=\"text-align: right;\">\n",
       "      <th></th>\n",
       "      <th>car</th>\n",
       "    </tr>\n",
       "  </thead>\n",
       "  <tbody>\n",
       "    <tr>\n",
       "      <th>Style</th>\n",
       "      <td>0.320239</td>\n",
       "    </tr>\n",
       "    <tr>\n",
       "      <th>Cost</th>\n",
       "      <td>0.557145</td>\n",
       "    </tr>\n",
       "    <tr>\n",
       "      <th>Fuel Economy</th>\n",
       "      <td>0.122616</td>\n",
       "    </tr>\n",
       "  </tbody>\n",
       "</table>\n",
       "</div>"
      ],
      "text/plain": [
       "                   car\n",
       "Style         0.320239\n",
       "Cost          0.557145\n",
       "Fuel Economy  0.122616"
      ]
     },
     "execution_count": 169,
     "metadata": {},
     "output_type": "execute_result"
    }
   ],
   "source": [
    "car = AHP('car', 3)\n",
    "car.update_matrix(np.array([\n",
    "    [1,0.5,3],\n",
    "    [2,1,4],\n",
    "    [0.3333,0.25,1]\n",
    "]))\n",
    "\n",
    "car.update_criteria(['Style', 'Cost', 'Fuel Economy'])\n",
    "car.rank()"
   ]
  },
  {
   "cell_type": "code",
   "execution_count": 170,
   "metadata": {},
   "outputs": [],
   "source": [
    "m1 = [\n",
    "    [1,0.25,4,0.1667],\n",
    "    [4,1,4,0.25],\n",
    "    [0.25,0.25,1,0.2],\n",
    "    [6,4,5,1]\n",
    "]\n",
    "\n",
    "m2 = [\n",
    "    [1,2,5,1],\n",
    "    [0.5,1,3,2],\n",
    "    [0.2,0.3333,1,0.25],\n",
    "    [1,0.5,4,1]\n",
    "]\n",
    "\n",
    "m3 = [\n",
    "    [34],\n",
    "    [27],\n",
    "    [24],\n",
    "    [28]   \n",
    "]"
   ]
  },
  {
   "cell_type": "code",
   "execution_count": 171,
   "metadata": {},
   "outputs": [
    {
     "data": {
      "text/plain": [
       "(4, 1, 2)"
      ]
     },
     "execution_count": 171,
     "metadata": {},
     "output_type": "execute_result"
    }
   ],
   "source": [
    "np.array(m3).shape[0], np.array(m3).shape[1], np.array(m3).ndim "
   ]
  },
  {
   "cell_type": "code",
   "execution_count": 172,
   "metadata": {},
   "outputs": [
    {
     "name": "stdout",
     "output_type": "stream",
     "text": [
      "1----> [[0.29883841]\n",
      " [0.27326824]\n",
      " [0.07147388]\n",
      " [0.35641947]]\n",
      "2----> [[0.13079225 0.37800588 0.37800588]\n",
      " [0.244431   0.28685362 0.28685362]\n",
      " [0.06570353 0.07419232 0.07419232]\n",
      " [0.55907322 0.26094818 0.26094818]]\n",
      "3----> [[0.13079225 0.37800588 0.37800588 0.29883841]\n",
      " [0.244431   0.28685362 0.28685362 0.27326824]\n",
      " [0.06570353 0.07419232 0.07419232 0.07147388]\n",
      " [0.55907322 0.26094818 0.26094818 0.35641947]]\n"
     ]
    },
    {
     "data": {
      "text/html": [
       "<div>\n",
       "<style scoped>\n",
       "    .dataframe tbody tr th:only-of-type {\n",
       "        vertical-align: middle;\n",
       "    }\n",
       "\n",
       "    .dataframe tbody tr th {\n",
       "        vertical-align: top;\n",
       "    }\n",
       "\n",
       "    .dataframe thead th {\n",
       "        text-align: right;\n",
       "    }\n",
       "</style>\n",
       "<table border=\"1\" class=\"dataframe\">\n",
       "  <thead>\n",
       "    <tr style=\"text-align: right;\">\n",
       "      <th></th>\n",
       "      <th>Style</th>\n",
       "      <th>Cost</th>\n",
       "      <th>Fuel Economy</th>\n",
       "      <th>AHP Score</th>\n",
       "      <th>rank</th>\n",
       "    </tr>\n",
       "    <tr>\n",
       "      <th>Alternative</th>\n",
       "      <th></th>\n",
       "      <th></th>\n",
       "      <th></th>\n",
       "      <th></th>\n",
       "      <th></th>\n",
       "    </tr>\n",
       "  </thead>\n",
       "  <tbody>\n",
       "    <tr>\n",
       "      <th>Civic</th>\n",
       "      <td>0.130792</td>\n",
       "      <td>0.378006</td>\n",
       "      <td>0.378006</td>\n",
       "      <td>0.298838</td>\n",
       "      <td>2.0</td>\n",
       "    </tr>\n",
       "    <tr>\n",
       "      <th>i20</th>\n",
       "      <td>0.244431</td>\n",
       "      <td>0.286854</td>\n",
       "      <td>0.286854</td>\n",
       "      <td>0.273268</td>\n",
       "      <td>3.0</td>\n",
       "    </tr>\n",
       "    <tr>\n",
       "      <th>Escort</th>\n",
       "      <td>0.065704</td>\n",
       "      <td>0.074192</td>\n",
       "      <td>0.074192</td>\n",
       "      <td>0.071474</td>\n",
       "      <td>4.0</td>\n",
       "    </tr>\n",
       "    <tr>\n",
       "      <th>Alto</th>\n",
       "      <td>0.559073</td>\n",
       "      <td>0.260948</td>\n",
       "      <td>0.260948</td>\n",
       "      <td>0.356419</td>\n",
       "      <td>1.0</td>\n",
       "    </tr>\n",
       "  </tbody>\n",
       "</table>\n",
       "</div>"
      ],
      "text/plain": [
       "                Style      Cost  Fuel Economy  AHP Score  rank\n",
       "Alternative                                                   \n",
       "Civic        0.130792  0.378006      0.378006   0.298838   2.0\n",
       "i20          0.244431  0.286854      0.286854   0.273268   3.0\n",
       "Escort       0.065704  0.074192      0.074192   0.071474   4.0\n",
       "Alto         0.559073  0.260948      0.260948   0.356419   1.0"
      ]
     },
     "execution_count": 172,
     "metadata": {},
     "output_type": "execute_result"
    }
   ],
   "source": [
    "car.add_layer(['Civic', 'i20', 'Escort', 'Alto'])\n",
    "\n",
    "car.sublayer['Style'].update_matrix(np.array(m1))\n",
    "\n",
    "car.sublayer['Cost'].update_matrix(np.array(m2))\n",
    "\n",
    "car.sublayer['Fuel Economy'].update_matrix(np.array(m2))\n",
    "\n",
    "car.make_decision()"
   ]
  },
  {
   "cell_type": "code",
   "execution_count": 52,
   "metadata": {},
   "outputs": [
    {
     "data": {
      "text/html": [
       "<div>\n",
       "<style scoped>\n",
       "    .dataframe tbody tr th:only-of-type {\n",
       "        vertical-align: middle;\n",
       "    }\n",
       "\n",
       "    .dataframe tbody tr th {\n",
       "        vertical-align: top;\n",
       "    }\n",
       "\n",
       "    .dataframe thead th {\n",
       "        text-align: right;\n",
       "    }\n",
       "</style>\n",
       "<table border=\"1\" class=\"dataframe\">\n",
       "  <thead>\n",
       "    <tr style=\"text-align: right;\">\n",
       "      <th></th>\n",
       "      <th>AHP Score</th>\n",
       "      <th>rank</th>\n",
       "    </tr>\n",
       "    <tr>\n",
       "      <th>Alternative</th>\n",
       "      <th></th>\n",
       "      <th></th>\n",
       "    </tr>\n",
       "  </thead>\n",
       "  <tbody>\n",
       "    <tr>\n",
       "      <th>Civic</th>\n",
       "      <td>0.289382</td>\n",
       "      <td>2.0</td>\n",
       "    </tr>\n",
       "    <tr>\n",
       "      <th>i20</th>\n",
       "      <td>0.267393</td>\n",
       "      <td>3.0</td>\n",
       "    </tr>\n",
       "    <tr>\n",
       "      <th>Escort</th>\n",
       "      <td>0.088419</td>\n",
       "      <td>4.0</td>\n",
       "    </tr>\n",
       "    <tr>\n",
       "      <th>Alto</th>\n",
       "      <td>0.354806</td>\n",
       "      <td>1.0</td>\n",
       "    </tr>\n",
       "  </tbody>\n",
       "</table>\n",
       "</div>"
      ],
      "text/plain": [
       "             AHP Score  rank\n",
       "Alternative                 \n",
       "Civic         0.289382   2.0\n",
       "i20           0.267393   3.0\n",
       "Escort        0.088419   4.0\n",
       "Alto          0.354806   1.0"
      ]
     },
     "execution_count": 52,
     "metadata": {},
     "output_type": "execute_result"
    }
   ],
   "source": [
    "a"
   ]
  },
  {
   "cell_type": "code",
   "execution_count": 59,
   "metadata": {},
   "outputs": [
    {
     "data": {
      "text/html": [
       "<div>\n",
       "<style scoped>\n",
       "    .dataframe tbody tr th:only-of-type {\n",
       "        vertical-align: middle;\n",
       "    }\n",
       "\n",
       "    .dataframe tbody tr th {\n",
       "        vertical-align: top;\n",
       "    }\n",
       "\n",
       "    .dataframe thead th {\n",
       "        text-align: right;\n",
       "    }\n",
       "</style>\n",
       "<table border=\"1\" class=\"dataframe\">\n",
       "  <thead>\n",
       "    <tr style=\"text-align: right;\">\n",
       "      <th></th>\n",
       "      <th>Style</th>\n",
       "    </tr>\n",
       "  </thead>\n",
       "  <tbody>\n",
       "    <tr>\n",
       "      <th>Civic</th>\n",
       "      <td>0.130792</td>\n",
       "    </tr>\n",
       "    <tr>\n",
       "      <th>i20</th>\n",
       "      <td>0.244431</td>\n",
       "    </tr>\n",
       "    <tr>\n",
       "      <th>Escort</th>\n",
       "      <td>0.065704</td>\n",
       "    </tr>\n",
       "    <tr>\n",
       "      <th>Alto</th>\n",
       "      <td>0.559073</td>\n",
       "    </tr>\n",
       "  </tbody>\n",
       "</table>\n",
       "</div>"
      ],
      "text/plain": [
       "           Style\n",
       "Civic   0.130792\n",
       "i20     0.244431\n",
       "Escort  0.065704\n",
       "Alto    0.559073"
      ]
     },
     "execution_count": 59,
     "metadata": {},
     "output_type": "execute_result"
    }
   ],
   "source": [
    "b[0]"
   ]
  },
  {
   "cell_type": "code",
   "execution_count": 60,
   "metadata": {},
   "outputs": [
    {
     "data": {
      "text/plain": [
       "array([[0.13079225],\n",
       "       [0.244431  ],\n",
       "       [0.06570353],\n",
       "       [0.55907322]])"
      ]
     },
     "execution_count": 60,
     "metadata": {},
     "output_type": "execute_result"
    }
   ],
   "source": [
    "b[0].values"
   ]
  },
  {
   "cell_type": "code",
   "execution_count": 64,
   "metadata": {},
   "outputs": [
    {
     "data": {
      "text/plain": [
       "[           Style\n",
       " Civic   0.130792\n",
       " i20     0.244431\n",
       " Escort  0.065704\n",
       " Alto    0.559073,\n",
       "             Cost\n",
       " Civic   0.378006\n",
       " i20     0.286854\n",
       " Escort  0.074192\n",
       " Alto    0.260948,\n",
       "         Fuel Economy\n",
       " Civic       0.300885\n",
       " i20         0.238938\n",
       " Escort      0.212389\n",
       " Alto        0.247788]"
      ]
     },
     "execution_count": 64,
     "metadata": {},
     "output_type": "execute_result"
    }
   ],
   "source": [
    "array = []\n",
    "array.append(b[0])\n",
    "array.append(b[1])\n",
    "array.append(b[2])\n",
    "array"
   ]
  },
  {
   "cell_type": "code",
   "execution_count": 66,
   "metadata": {},
   "outputs": [
    {
     "data": {
      "text/html": [
       "<div>\n",
       "<style scoped>\n",
       "    .dataframe tbody tr th:only-of-type {\n",
       "        vertical-align: middle;\n",
       "    }\n",
       "\n",
       "    .dataframe tbody tr th {\n",
       "        vertical-align: top;\n",
       "    }\n",
       "\n",
       "    .dataframe thead th {\n",
       "        text-align: right;\n",
       "    }\n",
       "</style>\n",
       "<table border=\"1\" class=\"dataframe\">\n",
       "  <thead>\n",
       "    <tr style=\"text-align: right;\">\n",
       "      <th></th>\n",
       "      <th>style</th>\n",
       "      <th>cost</th>\n",
       "      <th>fuel economy</th>\n",
       "    </tr>\n",
       "  </thead>\n",
       "  <tbody>\n",
       "    <tr>\n",
       "      <th>0</th>\n",
       "      <td>0.130792</td>\n",
       "      <td>0.378006</td>\n",
       "      <td>0.300885</td>\n",
       "    </tr>\n",
       "    <tr>\n",
       "      <th>1</th>\n",
       "      <td>0.244431</td>\n",
       "      <td>0.286854</td>\n",
       "      <td>0.238938</td>\n",
       "    </tr>\n",
       "    <tr>\n",
       "      <th>2</th>\n",
       "      <td>0.065704</td>\n",
       "      <td>0.074192</td>\n",
       "      <td>0.212389</td>\n",
       "    </tr>\n",
       "    <tr>\n",
       "      <th>3</th>\n",
       "      <td>0.559073</td>\n",
       "      <td>0.260948</td>\n",
       "      <td>0.247788</td>\n",
       "    </tr>\n",
       "  </tbody>\n",
       "</table>\n",
       "</div>"
      ],
      "text/plain": [
       "      style      cost  fuel economy\n",
       "0  0.130792  0.378006      0.300885\n",
       "1  0.244431  0.286854      0.238938\n",
       "2  0.065704  0.074192      0.212389\n",
       "3  0.559073  0.260948      0.247788"
      ]
     },
     "execution_count": 66,
     "metadata": {},
     "output_type": "execute_result"
    }
   ],
   "source": [
    "recommendation = np.concatenate(array, axis = 1)\n",
    "pd.DataFrame(data = recommendation, columns = ['style', 'cost', 'fuel economy'])"
   ]
  },
  {
   "cell_type": "code",
   "execution_count": 134,
   "metadata": {},
   "outputs": [],
   "source": [
    "a = ['q','w']"
   ]
  },
  {
   "cell_type": "code",
   "execution_count": 135,
   "metadata": {},
   "outputs": [
    {
     "data": {
      "text/plain": [
       "['q', 'w']"
      ]
     },
     "execution_count": 135,
     "metadata": {},
     "output_type": "execute_result"
    }
   ],
   "source": [
    "a"
   ]
  },
  {
   "cell_type": "code",
   "execution_count": 136,
   "metadata": {},
   "outputs": [],
   "source": [
    "a.append('r')"
   ]
  },
  {
   "cell_type": "code",
   "execution_count": 137,
   "metadata": {},
   "outputs": [
    {
     "data": {
      "text/plain": [
       "['q', 'w', 'r']"
      ]
     },
     "execution_count": 137,
     "metadata": {},
     "output_type": "execute_result"
    }
   ],
   "source": [
    "a"
   ]
  },
  {
   "cell_type": "code",
   "execution_count": null,
   "metadata": {},
   "outputs": [],
   "source": []
  }
 ],
 "metadata": {
  "kernelspec": {
   "display_name": "Python [conda env:uj3] *",
   "language": "python",
   "name": "conda-env-uj3-py"
  },
  "language_info": {
   "codemirror_mode": {
    "name": "ipython",
    "version": 3
   },
   "file_extension": ".py",
   "mimetype": "text/x-python",
   "name": "python",
   "nbconvert_exporter": "python",
   "pygments_lexer": "ipython3",
   "version": "3.8.0"
  },
  "toc": {
   "base_numbering": 1,
   "nav_menu": {},
   "number_sections": true,
   "sideBar": true,
   "skip_h1_title": false,
   "title_cell": "Table of Contents",
   "title_sidebar": "Contents",
   "toc_cell": false,
   "toc_position": {},
   "toc_section_display": true,
   "toc_window_display": false
  }
 },
 "nbformat": 4,
 "nbformat_minor": 2
}
