{
 "cells": [
  {
   "cell_type": "markdown",
   "metadata": {},
   "source": [
    "# Probabilistic Forecasting: Model for Intermitent Demand"
   ]
  },
  {
   "cell_type": "code",
   "execution_count": 6,
   "metadata": {},
   "outputs": [],
   "source": [
    "import numpy as np \n",
    "import pandas as pd\n",
    "import random \n",
    "from intermittent import croston \n",
    "from intermittent import adjust_croston\n",
    "from intermittent import kalman\n",
    "from intermittent import slow_move\n",
    "# from intermittent import multistage_glm\n",
    "import scipy.stats as st \n",
    "import math\n",
    "import matplotlib.pyplot as plt\n",
    "%matplotlib inline"
   ]
  },
  {
   "cell_type": "code",
   "execution_count": 7,
   "metadata": {},
   "outputs": [],
   "source": [
    "class IntermitentForcaster:\n",
    "\n",
    "    @staticmethod\n",
    "    def croston(y, forecast_period):\n",
    "        fit_pred = croston.fit(y, forecast_period)\n",
    "        # model setup\n",
    "        # model = fit_pred['crosto']\n",
    "        ypred = fit_pred['croston_forecast']\n",
    "        yfit = fit_pred['croston_fittedvalues']\n",
    "        return yfit, ypred \n",
    "    \n",
    "    @staticmethod\n",
    "    def adjust_croston(y, forecast_period, forecast_hyperbolic=True):\n",
    "        fit_pred = adjust_croston.fit(y, forecast_period, forecast_hyperbolic)\n",
    "        # model setup\n",
    "        # model = fit_pred['crosto']\n",
    "        ypred = fit_pred['croston_forecast']\n",
    "        yfit = fit_pred['croston_fittedvalues']\n",
    "        return yfit, ypred \n",
    "    \n",
    "    @staticmethod\n",
    "    def kalman_filter(y, forecast_period, F=None, H=None, Q=None, R=None):\n",
    "        dt = 1.0/60\n",
    "        F = np.array([[1, dt, 0], [0, 1, dt], [0, 0, 1]])\n",
    "        H = np.array([1, 0, 0]).reshape(1, 3)\n",
    "        Q = np.array([[0.05, 0.05, 0.0], [0.05, 0.05, 0.0], [0.0, 0.0, 0.0]])\n",
    "        R = np.array([0.5]).reshape(1, 1)\n",
    "        yfit = []\n",
    "        ypred = []\n",
    "        kf = kalman.KalmanFilter(F, Q, H, R)\n",
    "        kf.fit(y)\n",
    "        for mu in kf.mus:\n",
    "            yfit.append(H.dot(mu)[0])\n",
    "        for _ in range(forecast_period):\n",
    "            ypred.append(H.dot(kf.predict()))\n",
    "        yfit = np.asarray(yfit).reshape((-1, 1))\n",
    "        ypred = np.asarray(ypred).reshape((-1, 1))\n",
    "        return yfit, ypred\n",
    "    \n",
    "    @staticmethod\n",
    "    def kalman_smoother(y, forecast_period, F=None, H=None, Q=None, R=None):\n",
    "        dt = 1.0/60\n",
    "        F = np.array([[1, dt, 0], [0, 1, dt], [0, 0, 1]])\n",
    "        H = np.array([1, 0, 0]).reshape(1, 3)\n",
    "        Q = np.array([[0.05, 0.05, 0.0], [0.05, 0.05, 0.0], [0.0, 0.0, 0.0]])\n",
    "        R = np.array([0.5]).reshape(1, 1)\n",
    "        yfit = []\n",
    "        ypred = []\n",
    "        ks = kalman.KalmanSmoother(F, Q, H, R)\n",
    "        ks.fit(y)\n",
    "        for mu in ks.mus:\n",
    "            yfit.append(H.dot(mu)[0])\n",
    "        for _ in range(forecast_period):\n",
    "            ypred.append(H.dot(ks.predict()))\n",
    "        yfit = np.asarray(yfit).reshape((-1, 1))\n",
    "        ypred = np.asarray(ypred).reshape((-1, 1))\n",
    "        return yfit, ypred\n",
    "    \n",
    "    @staticmethod\n",
    "    def slow_mover(y, forecast_period, num_sample_points=200):\n",
    "        smf = slow_move.SlowMoveForcaster()\n",
    "        y50, y25, y90 = smf.fit(y)\n",
    "        ypred, ypred25, ypred90 = [], [], []\n",
    "        for _ in range(forecast_period):\n",
    "            p50, p25, p90 = smf.predict(size=num_sample_points)\n",
    "            ypred.append(p50)\n",
    "            ypred25.append(p25)\n",
    "            ypred90.append(p90)\n",
    "        return y50, ypred"
   ]
  },
  {
   "cell_type": "code",
   "execution_count": 17,
   "metadata": {},
   "outputs": [
    {
     "name": "stderr",
     "output_type": "stream",
     "text": [
      "C:\\Users\\z004775k\\Documents\\uj3\\notebooks\\intermittent\\slow_move.py:100: RuntimeWarning: invalid value encountered in double_scalars\n",
      "  logprob = (loggamma(a+y) - loggamma(a) - loggamma(y+1)) + \\\n"
     ]
    },
    {
     "data": {
      "image/png": "[encoded data removed]",
      "text/plain": [
       "<Figure size 432x288 with 1 Axes>"
      ]
     },
     "metadata": {
      "needs_background": "light"
     },
     "output_type": "display_data"
    }
   ],
   "source": [
    "if __name__ == \"__main__\": \n",
    "    data = pd.read_csv(\"../data/external/LD_MT200_hour.csv\", parse_dates=[\"date\"])\n",
    "    data[\"day_of_week\"] = data[\"date\"].apply(lambda x: x.dayofweek)\n",
    "    data[\"month\"] = data[\"date\"].apply(lambda x: x.month)\n",
    "    data[\"year\"] = data[\"date\"].apply(lambda x: x.year)\n",
    "    num_data = len(data)\n",
    "    train_ratio = 0.8\n",
    "    train_size = int(num_data * train_ratio)\n",
    "    test_size = num_data - train_size\n",
    "    tot_ts = data[\"Intermittent\"]\n",
    "    X = np.c_[np.asarray(pd.get_dummies(data[\"day_of_week\"])), np.asarray(pd.get_dummies(data[\"month\"]))]\n",
    "    ts = tot_ts[:train_size]\n",
    "    forecast_period = test_size\n",
    "    yfit, ypred = IntermitentForcaster.adjust_croston(ts, forecast_period)\n",
    "    yhat1 = np.concatenate([yfit, ypred])\n",
    "\n",
    "    yfit, ypred = IntermitentForcaster.adjust_croston(ts, forecast_period, False)\n",
    "    yhat2 = np.concatenate([yfit, ypred])\n",
    "\n",
    "    yfit, ypred = IntermitentForcaster.croston(ts, forecast_period)\n",
    "    yhat3 = np.concatenate([yfit, ypred])\n",
    "\n",
    "    yfit, ypred = IntermitentForcaster.kalman_filter(ts, forecast_period)\n",
    "    yhat4 = np.concatenate([yfit, ypred])\n",
    "\n",
    "    yfit, ypred = IntermitentForcaster.kalman_smoother(ts, forecast_period)\n",
    "    yhat5 = np.concatenate([yfit, ypred])\n",
    "\n",
    "    yfit, ypred = IntermitentForcaster.slow_mover(ts, forecast_period)\n",
    "    yhat6 = np.concatenate([yfit, ypred])\n",
    "\n",
    "    plt.plot(tot_ts) \n",
    "    plt.plot(yhat1)\n",
    "    plt.plot(yhat2)\n",
    "    plt.plot(yhat3)\n",
    "    plt.plot(yhat4)\n",
    "    plt.plot(yhat5)\n",
    "    plt.plot(yhat6)\n",
    "\n",
    "    plt.legend([\"True\", \"adjusted_croston_hyper\", \"adjust_croston\", \"croston\", \"filter\", \"smoother\", \"slow_move\"])\n",
    "    ymin, ymax = plt.ylim()\n",
    "    plt.vlines(train_size, ymin, ymax, color=\"k\", linestyles=\"dashed\", linewidth=2)\n",
    "    plt.ylim(ymin, ymax)\n",
    "    plt.show()"
   ]
  }
 ],
 "metadata": {
  "kernelspec": {
   "display_name": "Python [conda env:uj3] *",
   "language": "python",
   "name": "conda-env-uj3-py"
  },
  "language_info": {
   "codemirror_mode": {
    "name": "ipython",
    "version": 3
   },
   "file_extension": ".py",
   "mimetype": "text/x-python",
   "name": "python",
   "nbconvert_exporter": "python",
   "pygments_lexer": "ipython3",
   "version": "3.8.0"
  }
 },
 "nbformat": 4,
 "nbformat_minor": 4
}
